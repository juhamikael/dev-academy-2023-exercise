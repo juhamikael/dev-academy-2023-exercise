{
 "cells": [
  {
   "cell_type": "code",
   "execution_count": 32,
   "metadata": {
    "collapsed": false,
    "pycharm": {
     "name": "#%%\n"
    }
   },
   "outputs": [
    {
     "name": "stdout",
     "output_type": "stream",
     "text": [
      "Requirement already satisfied: pandas in c:\\users\\juha\\appdata\\local\\programs\\python\\python39\\lib\\site-packages (1.4.1)"
     ]
    },
    {
     "name": "stderr",
     "output_type": "stream",
     "text": [
      "WARNING: You are using pip version 21.1.3; however, version 22.3.1 is available.\n",
      "You should consider upgrading via the 'c:\\users\\juha\\appdata\\local\\programs\\python\\python39\\python.exe -m pip install --upgrade pip' command.\n"
     ]
    },
    {
     "name": "stdout",
     "output_type": "stream",
     "text": [
      "\n",
      "Requirement already satisfied: python-dateutil>=2.8.1 in c:\\users\\juha\\appdata\\local\\programs\\python\\python39\\lib\\site-packages (from pandas) (2.8.2)\n",
      "Requirement already satisfied: numpy>=1.18.5 in c:\\users\\juha\\appdata\\local\\programs\\python\\python39\\lib\\site-packages (from pandas) (1.22.2)\n",
      "Requirement already satisfied: pytz>=2020.1 in c:\\users\\juha\\appdata\\local\\programs\\python\\python39\\lib\\site-packages (from pandas) (2021.3)\n",
      "Requirement already satisfied: six>=1.5 in c:\\users\\juha\\appdata\\local\\programs\\python\\python39\\lib\\site-packages (from python-dateutil>=2.8.1->pandas) (1.16.0)\n"
     ]
    }
   ],
   "source": [
    "!pip install pandas\n"
   ]
  },
  {
   "cell_type": "code",
   "execution_count": 33,
   "metadata": {
    "collapsed": false,
    "pycharm": {
     "name": "#%%\n"
    }
   },
   "outputs": [],
   "source": [
    "import pandas as pd\n",
    "from pathlib import Path\n",
    "\n",
    "\n",
    "# Bike data validation\n",
    "\n",
    "def get_data(data_path: str):\n",
    "    \"\"\"\n",
    "    Reads the csv file at the given path and returns a dataframe.\n",
    "\n",
    "    Parameters:\n",
    "    data_path (str): path to the csv file\n",
    "\n",
    "    Returns:\n",
    "    pd.DataFrame: dataframe with the data from the csv file\n",
    "    \"\"\"\n",
    "    return pd.read_csv(data_path)\n",
    "\n",
    "\n",
    "def drop_columns(dataframe: pd.DataFrame, columns_to_drop: list):\n",
    "    \"\"\"\n",
    "    Drops the given columns from the input dataframe.\n",
    "\n",
    "    Parameters:\n",
    "    dataframe (pd.DataFrame): dataframe to be modified\n",
    "    columns_to_drop (list): list of columns to be dropped\n",
    "\n",
    "    Returns:\n",
    "    pd.DataFrame: processed dataframe with the dropped columns\n",
    "    \"\"\"\n",
    "    dataframe.drop(columns=columns_to_drop, inplace=True)\n",
    "    return dataframe\n",
    "\n",
    "\n",
    "def replace_chars_on_column(dataframe: pd.DataFrame):\n",
    "    \"\"\"\n",
    "    Replaces the characters in the column names with underscores and lowercases the column names.\n",
    "\n",
    "    Parameters:\n",
    "    dataframe (pd.DataFrame): dataframe to be modified\n",
    "\n",
    "    Returns:\n",
    "    pd.DataFrame: processed dataframe with the renamed columns\n",
    "    \"\"\"\n",
    "    string_list_to_replace_with_blank = [\".\", \"(\", \")\"]\n",
    "    dataframe.columns = dataframe.columns.str.replace(' ', '_', regex=True).str.lower()\n",
    "    for char in string_list_to_replace_with_blank:\n",
    "        dataframe.columns = dataframe.columns.str.replace(char, '', regex=True)\n",
    "\n",
    "    return dataframe\n",
    "\n",
    "\n",
    "def change_column_data_type(dataframe: pd.DataFrame):\n",
    "    \"\"\"\n",
    "    Change the data type of the columns 'covered_distance_m' and 'duration_sec' to int.\n",
    "\n",
    "    Parameters:\n",
    "    dataframe (pd.DataFrame): dataframe to be modified\n",
    "\n",
    "    Returns:\n",
    "    pd.DataFrame: dataframe with the changed data types\n",
    "    \"\"\"\n",
    "    dataframe.covered_distance_m = dataframe.covered_distance_m.astype(int)\n",
    "    dataframe.duration_sec = dataframe.duration_sec.astype(int)\n",
    "    return dataframe\n",
    "\n",
    "\n",
    "def change_column_names(dataframe, columns_to_change: dict):\n",
    "    \"\"\"\n",
    "    Changes the column names in the input dataframe to the given column names.\n",
    "\n",
    "    Parameters:\n",
    "    dataframe (pd.DataFrame): dataframe to be modified\n",
    "    columns_to_change (dict): dictionary with the old column names as keys and the new column names as values\n",
    "\n",
    "    Returns:\n",
    "    pd.DataFrame: dataframe with the changed column names\n",
    "    \"\"\"\n",
    "    dataframe.rename(columns=columns_to_change, inplace=True)\n",
    "    return dataframe\n",
    "\n",
    "\n",
    "def drop_distances_and_durations_under_10(dataframe: pd.DataFrame):\n",
    "    \"\"\" Drops rows where covered_distance_m is less than 10 and duration_sec is less than 10.\n",
    "\n",
    "    Parameters:\n",
    "    dataframe (pd.DataFrame): dataframe to be cleaned\n",
    "\n",
    "    Returns:\n",
    "    pd.DataFrame: cleaned dataframe\n",
    "\n",
    "    \"\"\"\n",
    "    dataframe_size = len(dataframe)\n",
    "\n",
    "    dataframe.drop_duplicates(inplace=True)\n",
    "    dataframe = dataframe[(dataframe.covered_distance_m >= 10) & (dataframe.duration_sec >= 10)].copy()\n",
    "    dataframe = dataframe[dataframe.covered_distance_m.notna()].copy()\n",
    "\n",
    "    dataframe_new_size = len(dataframe)\n",
    "    print(f\"Number of rows dropped: {dataframe_size - dataframe_new_size}\")\n",
    "\n",
    "    return dataframe\n",
    "\n",
    "\n",
    "def concat_dataframes(array_of_dataframes: list):\n",
    "    \"\"\" Concatenates the input dataframes into one dataframe.\n",
    "\n",
    "    Parameters:\n",
    "    array_of_dataframes (list): list of dataframes to be concatenated\n",
    "\n",
    "    Returns:\n",
    "    pd.DataFrame: concatenated dataframe\n",
    "\n",
    "    \"\"\"\n",
    "    return pd.concat(array_of_dataframes).reset_index(drop=True).reset_index(drop=True)\n",
    "\n",
    "\n",
    "def change_time_format(dataframe: pd.DataFrame):\n",
    "    \"\"\" Changes the format of the 'start_time' and 'end_time' columns in the input dataframe.\n",
    "\n",
    "    Parameters:\n",
    "    dataframe (pd.DataFrame): dataframe to be modified\n",
    "\n",
    "    Returns:\n",
    "    pd.DataFrame: dataframe with the changed time format\n",
    "    \"\"\"\n",
    "    time = ['start_time', 'end_time']\n",
    "    for when in time:\n",
    "        dataframe[when] = pd.to_datetime(dataframe[when], format='%Y-%m-%d %H:%M:%S')\n",
    "\n",
    "    return dataframe\n",
    "\n",
    "\n",
    "def dataframe_to_csv(dataframe: pd.DataFrame, filename: str, indx: bool) -> None:\n",
    "    \"\"\"\n",
    "    Saves the input dataframe to a csv file with the given filename.\n",
    "    When indx is True, the index column will be saved to the csv file.\n",
    "    Also convert 'start_time' and 'end_time' columns in dataframe to datetime.\n",
    "    We use this since SQL Lite wants an index column but Postgres does not.\n",
    "\n",
    "    Parameters:\n",
    "    dataframe (pd.DataFrame): dataframe to be saved\n",
    "    filename (str): name of the file\n",
    "    indx (bool): True if index is to be saved, False if not\n",
    "\n",
    "    Returns:\n",
    "    None\n",
    "    \"\"\"\n",
    "    if indx:\n",
    "        dataframe.index.name = \"id\"\n",
    "        dataframe.index += 1\n",
    "\n",
    "    if filename == \"helsinki_bike_data\":\n",
    "        dataframe = change_time_format(dataframe)\n",
    "\n",
    "    dataframe.to_csv(Path.cwd() / 'data' / f\"{filename}_new.csv\", index=indx)\n",
    "\n",
    "    try:\n",
    "        print(f\"Dataframe saved to {filename}_new.csv\")\n",
    "    except FileNotFoundError:\n",
    "        print(\"File not found\")\n",
    "\n",
    "\n",
    "def sort_by_column(dataframe: pd.DataFrame, sort_by: str):\n",
    "    \"\"\"\n",
    "    Sorts the input dataframe by the given column name.\n",
    "\n",
    "    Parameters:\n",
    "    dataframe (pd.DataFrame): dataframe to be sorted\n",
    "    sort_by (str): column name to sort by\n",
    "\n",
    "    Returns:\n",
    "    pd.DataFrame: sorted dataframe\n",
    "    \"\"\"\n",
    "    return dataframe.sort_values(by=[sort_by], ascending=True).reset_index(drop=True)\n",
    "\n",
    "\n"
   ]
  },
  {
   "cell_type": "code",
   "execution_count": 34,
   "metadata": {
    "collapsed": false,
    "pycharm": {
     "name": "#%%\n"
    }
   },
   "outputs": [
    {
     "name": "stdout",
     "output_type": "stream",
     "text": [
      "Number of rows dropped: 422027\n",
      "Number of rows dropped: 634062\n",
      "Number of rows dropped: 626534\n",
      "Dataframe saved to helsinki_bike_data_new.csv\n"
     ]
    }
   ],
   "source": [
    "\"\"\"\n",
    "Section: Run the functions\n",
    "1. Process bikedata (2021-05, 2021-06, 2021-07) and save the dataframes to csv files.\n",
    "\"\"\"\n",
    "dataframe_1 = change_column_data_type(drop_columns(\n",
    "    dataframe=drop_distances_and_durations_under_10(replace_chars_on_column(get_data('./data/2021-05.csv'))),\n",
    "    columns_to_drop=['departure_station_name', 'return_station_name']))\n",
    "dataframe_2 = drop_columns(\n",
    "    dataframe=drop_distances_and_durations_under_10(replace_chars_on_column(get_data('./data/2021-06.csv'))),\n",
    "    columns_to_drop=['departure_station_name', 'return_station_name'])\n",
    "dataframe_3 = drop_columns(\n",
    "    dataframe=drop_distances_and_durations_under_10(replace_chars_on_column(get_data('./data/2021-07.csv'))),\n",
    "    columns_to_drop=['departure_station_name', 'return_station_name'])\n",
    "\n",
    "merged_dataframe = concat_dataframes([dataframe_1, dataframe_2, dataframe_3])\n",
    "\n",
    "merged_dataframe = change_column_names(merged_dataframe,\n",
    "                                       columns_to_change={'covered_distance_m': 'distance_m',\n",
    "                                                          'duration_sec': 'duration_s',\n",
    "                                                          \"departure_station_id\": \"start_station_id\",\n",
    "                                                          \"return_station_id\": \"end_station_id\",\n",
    "                                                          \"departure\": \"start_time\",\n",
    "                                                          \"return\": \"end_time\"})\n",
    "\n",
    "merged_dataframe = sort_by_column(merged_dataframe, 'start_time')\n",
    "dataframe_to_csv(dataframe=merged_dataframe, filename=\"helsinki_bike_data\", indx=True)\n"
   ]
  },
  {
   "cell_type": "code",
   "execution_count": 35,
   "outputs": [
    {
     "data": {
      "text/plain": "                 start_time            end_time  start_station_id  \\\nid                                                                  \n1       2021-05-01 00:00:11 2021-05-01 00:04:34               138   \n2       2021-05-01 00:00:30 2021-05-01 00:09:53                17   \n3       2021-05-01 00:00:30 2021-05-01 00:11:55                25   \n4       2021-05-01 00:00:32 2021-05-01 00:29:03                 2   \n5       2021-05-01 00:00:41 2021-05-01 00:12:19                17   \n...                     ...                 ...               ...   \n1564375 2021-07-31 23:59:33 2021-08-01 00:14:49               126   \n1564376 2021-07-31 23:59:47 2021-08-01 00:05:52               122   \n1564377 2021-07-31 23:59:55 2021-08-01 00:08:45               135   \n1564378 2021-07-31 23:59:55 2021-08-01 00:03:24               258   \n1564379 2021-07-31 23:59:59 2021-08-01 00:09:15               113   \n\n         end_station_id  distance_m  duration_s  \nid                                               \n1                   138      1057.0         259  \n2                    45      1688.0         558  \n3                   123      2088.0         679  \n4                   201      6344.0        1709  \n5                    45      1690.0         693  \n...                 ...         ...         ...  \n1564375             255      3875.0         912  \n1564376              16      1298.0         369  \n1564377             115      1307.0         532  \n1564378             260       820.0         205  \n1564379              78      1602.0         553  \n\n[1564379 rows x 6 columns]",
      "text/html": "<div>\n<style scoped>\n    .dataframe tbody tr th:only-of-type {\n        vertical-align: middle;\n    }\n\n    .dataframe tbody tr th {\n        vertical-align: top;\n    }\n\n    .dataframe thead th {\n        text-align: right;\n    }\n</style>\n<table border=\"1\" class=\"dataframe\">\n  <thead>\n    <tr style=\"text-align: right;\">\n      <th></th>\n      <th>start_time</th>\n      <th>end_time</th>\n      <th>start_station_id</th>\n      <th>end_station_id</th>\n      <th>distance_m</th>\n      <th>duration_s</th>\n    </tr>\n    <tr>\n      <th>id</th>\n      <th></th>\n      <th></th>\n      <th></th>\n      <th></th>\n      <th></th>\n      <th></th>\n    </tr>\n  </thead>\n  <tbody>\n    <tr>\n      <th>1</th>\n      <td>2021-05-01 00:00:11</td>\n      <td>2021-05-01 00:04:34</td>\n      <td>138</td>\n      <td>138</td>\n      <td>1057.0</td>\n      <td>259</td>\n    </tr>\n    <tr>\n      <th>2</th>\n      <td>2021-05-01 00:00:30</td>\n      <td>2021-05-01 00:09:53</td>\n      <td>17</td>\n      <td>45</td>\n      <td>1688.0</td>\n      <td>558</td>\n    </tr>\n    <tr>\n      <th>3</th>\n      <td>2021-05-01 00:00:30</td>\n      <td>2021-05-01 00:11:55</td>\n      <td>25</td>\n      <td>123</td>\n      <td>2088.0</td>\n      <td>679</td>\n    </tr>\n    <tr>\n      <th>4</th>\n      <td>2021-05-01 00:00:32</td>\n      <td>2021-05-01 00:29:03</td>\n      <td>2</td>\n      <td>201</td>\n      <td>6344.0</td>\n      <td>1709</td>\n    </tr>\n    <tr>\n      <th>5</th>\n      <td>2021-05-01 00:00:41</td>\n      <td>2021-05-01 00:12:19</td>\n      <td>17</td>\n      <td>45</td>\n      <td>1690.0</td>\n      <td>693</td>\n    </tr>\n    <tr>\n      <th>...</th>\n      <td>...</td>\n      <td>...</td>\n      <td>...</td>\n      <td>...</td>\n      <td>...</td>\n      <td>...</td>\n    </tr>\n    <tr>\n      <th>1564375</th>\n      <td>2021-07-31 23:59:33</td>\n      <td>2021-08-01 00:14:49</td>\n      <td>126</td>\n      <td>255</td>\n      <td>3875.0</td>\n      <td>912</td>\n    </tr>\n    <tr>\n      <th>1564376</th>\n      <td>2021-07-31 23:59:47</td>\n      <td>2021-08-01 00:05:52</td>\n      <td>122</td>\n      <td>16</td>\n      <td>1298.0</td>\n      <td>369</td>\n    </tr>\n    <tr>\n      <th>1564377</th>\n      <td>2021-07-31 23:59:55</td>\n      <td>2021-08-01 00:08:45</td>\n      <td>135</td>\n      <td>115</td>\n      <td>1307.0</td>\n      <td>532</td>\n    </tr>\n    <tr>\n      <th>1564378</th>\n      <td>2021-07-31 23:59:55</td>\n      <td>2021-08-01 00:03:24</td>\n      <td>258</td>\n      <td>260</td>\n      <td>820.0</td>\n      <td>205</td>\n    </tr>\n    <tr>\n      <th>1564379</th>\n      <td>2021-07-31 23:59:59</td>\n      <td>2021-08-01 00:09:15</td>\n      <td>113</td>\n      <td>78</td>\n      <td>1602.0</td>\n      <td>553</td>\n    </tr>\n  </tbody>\n</table>\n<p>1564379 rows × 6 columns</p>\n</div>"
     },
     "execution_count": 35,
     "metadata": {},
     "output_type": "execute_result"
    }
   ],
   "source": [
    "merged_dataframe\n"
   ],
   "metadata": {
    "collapsed": false,
    "pycharm": {
     "name": "#%%\n"
    }
   }
  },
  {
   "cell_type": "code",
   "execution_count": 36,
   "outputs": [
    {
     "name": "stdout",
     "output_type": "stream",
     "text": [
      "Dataframe saved to station_data_new.csv\n"
     ]
    }
   ],
   "source": [
    "\"\"\"\n",
    "2. Process station_data.csv and save the dataframe to a csv file.\n",
    "\"\"\"\n",
    "station_data = drop_columns(\n",
    "    replace_chars_on_column(dataframe=get_data('./data/station_data.csv')),\n",
    "    columns_to_drop=[\"nimi\", \"fid\", \"stad\", \"operaattor\", \"namn\", \"kapasiteet\", \"adress\", \"kaupunki\"])\n",
    "station_data = change_column_names(\n",
    "    station_data, {\"id\": \"station_id\", \"osoite\": \"address\", \"y\": \"latitude\", \"x\": \"longitude\"}\n",
    ")\n",
    "station_data = sort_by_column(dataframe=station_data, sort_by=\"station_id\")\n",
    "dataframe_to_csv(dataframe=station_data, filename=\"station_data\", indx=False)\n"
   ],
   "metadata": {
    "collapsed": false,
    "pycharm": {
     "name": "#%%\n"
    }
   }
  },
  {
   "cell_type": "code",
   "execution_count": 37,
   "outputs": [
    {
     "data": {
      "text/plain": "     station_id                 name              address  longitude  \\\n0             1          Kaivopuisto           Meritori 1  24.950211   \n1             2      Laivasillankatu   Laivasillankatu 14  24.956510   \n2             3   Kapteeninpuistikko       Tehtaankatu 13  24.945018   \n3             4            Viiskulma     Fredrikinkatu 19  24.941776   \n4             5            Sepänkatu       Tehtaankatu 25  24.936285   \n..          ...                  ...                  ...        ...   \n452         767            Ruutikatu         Ruutikatu 10  24.820635   \n453         769            Tiurintie       Kurkijoentie 1  24.814562   \n454         900           Orionintie       Orionintie 3-5  24.771826   \n455         901       O'Bike Station    Rauhalanpuisto 11  24.742219   \n456         902  Derby Business Park  Tarvonsalmenkatu 17  24.835356   \n\n      latitude  \n0    60.155370  \n1    60.160989  \n2    60.158177  \n3    60.160986  \n4    60.157948  \n..         ...  \n452  60.223377  \n453  60.204951  \n454  60.180118  \n455  60.163412  \n456  60.209017  \n\n[457 rows x 5 columns]",
      "text/html": "<div>\n<style scoped>\n    .dataframe tbody tr th:only-of-type {\n        vertical-align: middle;\n    }\n\n    .dataframe tbody tr th {\n        vertical-align: top;\n    }\n\n    .dataframe thead th {\n        text-align: right;\n    }\n</style>\n<table border=\"1\" class=\"dataframe\">\n  <thead>\n    <tr style=\"text-align: right;\">\n      <th></th>\n      <th>station_id</th>\n      <th>name</th>\n      <th>address</th>\n      <th>longitude</th>\n      <th>latitude</th>\n    </tr>\n  </thead>\n  <tbody>\n    <tr>\n      <th>0</th>\n      <td>1</td>\n      <td>Kaivopuisto</td>\n      <td>Meritori 1</td>\n      <td>24.950211</td>\n      <td>60.155370</td>\n    </tr>\n    <tr>\n      <th>1</th>\n      <td>2</td>\n      <td>Laivasillankatu</td>\n      <td>Laivasillankatu 14</td>\n      <td>24.956510</td>\n      <td>60.160989</td>\n    </tr>\n    <tr>\n      <th>2</th>\n      <td>3</td>\n      <td>Kapteeninpuistikko</td>\n      <td>Tehtaankatu 13</td>\n      <td>24.945018</td>\n      <td>60.158177</td>\n    </tr>\n    <tr>\n      <th>3</th>\n      <td>4</td>\n      <td>Viiskulma</td>\n      <td>Fredrikinkatu 19</td>\n      <td>24.941776</td>\n      <td>60.160986</td>\n    </tr>\n    <tr>\n      <th>4</th>\n      <td>5</td>\n      <td>Sepänkatu</td>\n      <td>Tehtaankatu 25</td>\n      <td>24.936285</td>\n      <td>60.157948</td>\n    </tr>\n    <tr>\n      <th>...</th>\n      <td>...</td>\n      <td>...</td>\n      <td>...</td>\n      <td>...</td>\n      <td>...</td>\n    </tr>\n    <tr>\n      <th>452</th>\n      <td>767</td>\n      <td>Ruutikatu</td>\n      <td>Ruutikatu 10</td>\n      <td>24.820635</td>\n      <td>60.223377</td>\n    </tr>\n    <tr>\n      <th>453</th>\n      <td>769</td>\n      <td>Tiurintie</td>\n      <td>Kurkijoentie 1</td>\n      <td>24.814562</td>\n      <td>60.204951</td>\n    </tr>\n    <tr>\n      <th>454</th>\n      <td>900</td>\n      <td>Orionintie</td>\n      <td>Orionintie 3-5</td>\n      <td>24.771826</td>\n      <td>60.180118</td>\n    </tr>\n    <tr>\n      <th>455</th>\n      <td>901</td>\n      <td>O'Bike Station</td>\n      <td>Rauhalanpuisto 11</td>\n      <td>24.742219</td>\n      <td>60.163412</td>\n    </tr>\n    <tr>\n      <th>456</th>\n      <td>902</td>\n      <td>Derby Business Park</td>\n      <td>Tarvonsalmenkatu 17</td>\n      <td>24.835356</td>\n      <td>60.209017</td>\n    </tr>\n  </tbody>\n</table>\n<p>457 rows × 5 columns</p>\n</div>"
     },
     "execution_count": 37,
     "metadata": {},
     "output_type": "execute_result"
    }
   ],
   "source": [
    "station_data"
   ],
   "metadata": {
    "collapsed": false,
    "pycharm": {
     "name": "#%%\n"
    }
   }
  }
 ],
 "metadata": {
  "kernelspec": {
   "display_name": "venv",
   "language": "python",
   "name": "python3"
  },
  "language_info": {
   "codemirror_mode": {
    "name": "ipython",
    "version": 3
   },
   "file_extension": ".py",
   "mimetype": "text/x-python",
   "name": "python",
   "nbconvert_exporter": "python",
   "pygments_lexer": "ipython3",
   "version": "3.10.3"
  },
  "vscode": {
   "interpreter": {
    "hash": "259f4e05152551d316899d32469fb9c891fc1ce7c0d10ec684018685c482574c"
   }
  }
 },
 "nbformat": 4,
 "nbformat_minor": 0
}