{
  "cells": [
    {
      "cell_type": "code",
      "execution_count": null,
      "metadata": {
        "collapsed": false,
        "pycharm": {
          "name": "#%%\n"
        }
      },
      "outputs": [],
      "source": [
        "!pip install pandas\n"
      ]
    },
    {
      "cell_type": "code",
      "execution_count": 13,
      "metadata": {
        "collapsed": false,
        "pycharm": {
          "name": "#%%\n"
        }
      },
      "outputs": [],
      "source": [
        "import pandas as pd\n",
        "from pathlib import Path\n",
        "\n",
        "# Bike data validation\n",
        "\n",
        "def get_data(data_path: str):\n",
        "    return pd.read_csv(data_path)\n",
        "\n",
        "\n",
        "def drop_columns(dataframe: pd.DataFrame, columns_to_drop: list):\n",
        "    dataframe.drop(columns=columns_to_drop, inplace=True)\n",
        "    return dataframe\n",
        "\n",
        "\n",
        "def replace_chars_on_column(dataframe: pd.DataFrame):\n",
        "    string_list_to_replace_with_blank = [\".\", \"(\", \")\"]\n",
        "    dataframe.columns = dataframe.columns.str.replace(' ', '_', regex=True).str.lower()\n",
        "    for char in string_list_to_replace_with_blank:\n",
        "        dataframe.columns = dataframe.columns.str.replace(char, '', regex=True)\n",
        "\n",
        "    return dataframe\n",
        "\n",
        "\n",
        "def change_column_data_type(dataframe: pd.DataFrame):\n",
        "    dataframe.covered_distance_m = dataframe.covered_distance_m.astype(int)\n",
        "    dataframe.duration_sec = dataframe.duration_sec.astype(int)\n",
        "    return dataframe\n",
        "\n",
        "\n",
        "def change_column_names(dataframe, columns_to_change: dict):\n",
        "    dataframe.rename(columns=columns_to_change, inplace=True)\n",
        "    return dataframe\n",
        "\n",
        "\n",
        "def drop_distances_and_durations_under_10(dataframe: pd.DataFrame):\n",
        "    print(f\"Number of rows dropped: {len(dataframe) - len(dataframe[(dataframe.covered_distance_m >= 10) & (dataframe.duration_sec >= 10)])}\")\n",
        "    dataframe = dataframe[(dataframe.covered_distance_m >= 10) & (dataframe.duration_sec >= 10)].copy()\n",
        "\n",
        "    return change_column_data_type(dataframe)\n",
        "\n",
        "\n",
        "def concat_dataframes(array_of_dataframes: list):\n",
        "    return pd.concat(array_of_dataframes).reset_index(drop=True).reset_index(drop=True)\n",
        "\n",
        "\n",
        "def dataframe_to_csv(dataframe: pd.DataFrame, filename: str) -> None:\n",
        "    dataframe.to_csv(f\"{filename}_new.csv\", index=False)\n",
        "    try:\n",
        "        print(f\"Dataframe saved to {filename}_new.csv\")\n",
        "    except FileNotFoundError:\n",
        "        print(\"File not found\")\n",
        "\n",
        "\n",
        "def sort_by_column(dataframe: pd.DataFrame, sort_by: str):\n",
        "    return dataframe.sort_values(by=[sort_by], ascending=True).reset_index(drop=True)\n",
        "\n",
        "\n"
      ]
    },
    {
      "cell_type": "code",
      "execution_count": null,
      "metadata": {
        "collapsed": false,
        "pycharm": {
          "name": "#%%\n"
        }
      },
      "outputs": [],
      "source": [
        "# Run the functions\n",
        "# Process bikedata (2021-05, 2021-06, 2021-07)\n",
        "dataframe_1 = drop_columns(\n",
        "    dataframe=drop_distances_and_durations_under_10(replace_chars_on_column(get_data('./data/2021-05.csv'))),\n",
        "    columns_to_drop=['departure_station_name', 'return_station_name'])\n",
        "dataframe_2 = drop_columns(\n",
        "    dataframe=drop_distances_and_durations_under_10(replace_chars_on_column(get_data('./data/2021-06.csv'))),\n",
        "    columns_to_drop=['departure_station_name', 'return_station_name'])\n",
        "dataframe_3 = drop_columns(\n",
        "    dataframe=drop_distances_and_durations_under_10(replace_chars_on_column(get_data('./data/2021-07.csv'))),\n",
        "    columns_to_drop=['departure_station_name', 'return_station_name'])\n",
        "\n",
        "merged_dataframe = concat_dataframes([dataframe_1, dataframe_2, dataframe_3])\n",
        "\n",
        "merged_dataframe = change_column_names(merged_dataframe,\n",
        "                                       columns_to_change={'covered_distance_m': 'distance_m',\n",
        "                                                          'duration_sec': 'duration_s',\n",
        "                                                          \"departure_station_id\": \"start_station_id\",\n",
        "                                                          \"return_station_id\": \"end_station_id\",\n",
        "                                                          \"departure\": \"start_time\",\n",
        "                                                          \"return\": \"end_time\"})\n",
        "merged_dataframe = sort_by_column(merged_dataframe, 'start_time')\n",
        "\n",
        "# Using pathlib to use current working directory\n",
        "dataframe_to_csv(merged_dataframe, Path.cwd() / \"data\" / \"bikedata\")\n"
      ]
    },
    {
      "cell_type": "code",
      "execution_count": null,
      "metadata": {
        "collapsed": false,
        "pycharm": {
          "name": "#%%\n"
        }
      },
      "outputs": [],
      "source": [
        "# Process station_data.csv data\n",
        "station_data = drop_columns(\n",
        "    replace_chars_on_column(dataframe=get_data('./data/station_data.csv')),\n",
        "    columns_to_drop=[\"nimi\", \"fid\", \"stad\", \"operaattor\", \"namn\", \"kapasiteet\", \"adress\", \"kaupunki\"])\n",
        "station_data = change_column_names(\n",
        "    station_data, {\"id\": \"station_id\", \"osoite\": \"address\", \"y\": \"latitude\", \"x\": \"longitude\"}\n",
        ")\n",
        "station_data = sort_by_column(dataframe=station_data, sort_by=\"station_id\")\n",
        "dataframe_to_csv(station_data, Path.cwd() / \"data\" / \"station_data\")\n"
      ]
    }
  ],
  "metadata": {
    "kernelspec": {
      "display_name": "venv",
      "language": "python",
      "name": "python3"
    },
    "language_info": {
      "codemirror_mode": {
        "name": "ipython",
        "version": 3
      },
      "file_extension": ".py",
      "mimetype": "text/x-python",
      "name": "python",
      "nbconvert_exporter": "python",
      "pygments_lexer": "ipython3",
      "version": "3.10.3"
    },
    "vscode": {
      "interpreter": {
        "hash": "259f4e05152551d316899d32469fb9c891fc1ce7c0d10ec684018685c482574c"
      }
    }
  },
  "nbformat": 4,
  "nbformat_minor": 0
}
