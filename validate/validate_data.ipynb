{
 "cells": [
  {
   "cell_type": "markdown",
   "source": [
    "# Helsinki Bike Data\n",
    "---\n",
    "This notebook is used to clean the Helsinki bike data."
   ],
   "metadata": {
    "collapsed": false,
    "pycharm": {
     "name": "#%% md\n"
    }
   }
  },
  {
   "cell_type": "code",
   "execution_count": 115,
   "metadata": {
    "collapsed": false,
    "pycharm": {
     "name": "#%%\n"
    }
   },
   "outputs": [
    {
     "data": {
      "text/plain": "'\\nComment out the following lines if you have already installed the packages.\\n'"
     },
     "execution_count": 115,
     "metadata": {},
     "output_type": "execute_result"
    }
   ],
   "source": [
    "\"\"\"\n",
    "Comment out the following lines if you have already installed the packages.\n",
    "\"\"\"\n",
    "# !pip install pandas\n",
    "# !pip install tqdm"
   ]
  },
  {
   "cell_type": "markdown",
   "source": [
    "## Section : Define functions\n",
    "---\n",
    "- get_data\n",
    "- drop_columns\n",
    "- replace_chars_on_column\n",
    "- change_column_data_type\n",
    "- change_column_names\n",
    "- drop_distances_and_durations_under_10\n",
    "- concat_dataframes\n",
    "- change_time_format\n",
    "- dataframe_to_csv\n",
    "- sort_by_column\n",
    "- combine_lat_long\n",
    "- merge_station_data_and_bike_data\n",
    "\n",
    "### Read the function docstrings for more in depth information about the functions."
   ],
   "metadata": {
    "collapsed": false,
    "pycharm": {
     "name": "#%% md\n"
    }
   }
  },
  {
   "cell_type": "code",
   "execution_count": 116,
   "outputs": [],
   "source": [
    "import pandas as pd\n",
    "from tqdm import tqdm\n",
    "from pathlib import Path\n",
    "\n",
    "\n",
    "def get_data(data_path: str):\n",
    "    \"\"\"\n",
    "    Reads the csv file at the given path and returns a dataframe.\n",
    "\n",
    "    Parameters:\n",
    "    data_path (str): path to the csv file\n",
    "\n",
    "    Returns:\n",
    "    pd.DataFrame: dataframe with the data from the csv file\n",
    "    \"\"\"\n",
    "    return pd.read_csv(data_path)\n",
    "\n",
    "\n",
    "def drop_columns(dataframe: pd.DataFrame, columns_to_drop: list):\n",
    "    \"\"\"\n",
    "    Drops the given columns from the input dataframe.\n",
    "\n",
    "    Parameters:\n",
    "    dataframe (pd.DataFrame): dataframe to be modified\n",
    "    columns_to_drop (list): list of columns to be dropped\n",
    "\n",
    "    Returns:\n",
    "    pd.DataFrame: processed dataframe with the dropped columns\n",
    "    \"\"\"\n",
    "    dataframe.drop(columns=columns_to_drop, inplace=True)\n",
    "    return dataframe\n",
    "\n",
    "\n",
    "def replace_chars_on_column(dataframe: pd.DataFrame):\n",
    "    \"\"\"\n",
    "    Replaces the characters in the column names with underscores and lowercases the column names.\n",
    "\n",
    "    Parameters:\n",
    "    dataframe (pd.DataFrame): dataframe to be modified\n",
    "\n",
    "    Returns:\n",
    "    pd.DataFrame: processed dataframe with the renamed columns\n",
    "    \"\"\"\n",
    "    string_list_to_replace_with_blank = [\".\", \"(\", \")\"]\n",
    "    dataframe.columns = dataframe.columns.str.replace(' ', '_', regex=True).str.lower()\n",
    "    for char in string_list_to_replace_with_blank:\n",
    "        dataframe.columns = dataframe.columns.str.replace(char, '', regex=True)\n",
    "\n",
    "    return dataframe\n",
    "\n",
    "\n",
    "def change_column_data_type(dataframe: pd.DataFrame):\n",
    "    \"\"\"\n",
    "    Change the data type of the columns 'covered_distance_m' and 'duration_sec' to int.\n",
    "\n",
    "    Parameters:\n",
    "    dataframe (pd.DataFrame): dataframe to be modified\n",
    "\n",
    "    Returns:\n",
    "    pd.DataFrame: dataframe with the changed data types\n",
    "    \"\"\"\n",
    "    dataframe.covered_distance_m = dataframe.covered_distance_m.astype(int)\n",
    "    dataframe.duration_sec = dataframe.duration_sec.astype(int)\n",
    "    return dataframe\n",
    "\n",
    "\n",
    "def change_column_names(dataframe, columns_to_change: dict):\n",
    "    \"\"\"\n",
    "    Changes the column names in the input dataframe to the given column names.\n",
    "\n",
    "    Parameters:\n",
    "    dataframe (pd.DataFrame): dataframe to be modified\n",
    "    columns_to_change (dict): dictionary with the old column names as keys and the new column names as values\n",
    "\n",
    "    Returns:\n",
    "    pd.DataFrame: dataframe with the changed column names\n",
    "    \"\"\"\n",
    "    dataframe.rename(columns=columns_to_change, inplace=True)\n",
    "    return dataframe\n",
    "\n",
    "\n",
    "def drop_distances_and_durations_under_10(dataframe: pd.DataFrame):\n",
    "    \"\"\" Drops rows where covered_distance_m is less than 10 and duration_sec is less than 10.\n",
    "\n",
    "    Parameters:\n",
    "    dataframe (pd.DataFrame): dataframe to be cleaned\n",
    "\n",
    "    Returns:\n",
    "    pd.DataFrame: cleaned dataframe\n",
    "\n",
    "    \"\"\"\n",
    "    dataframe_size = len(dataframe)\n",
    "\n",
    "    dataframe.drop_duplicates(inplace=True)\n",
    "    dataframe = dataframe[(dataframe.covered_distance_m >= 10) & (dataframe.duration_sec >= 10)].copy()\n",
    "    dataframe = dataframe[dataframe.covered_distance_m.notna()].copy()\n",
    "\n",
    "    dataframe_new_size = len(dataframe)\n",
    "\n",
    "    print(f\"Number of rows dropped: {dataframe_size - dataframe_new_size}\\n{'-' * 50}\")\n",
    "\n",
    "    return dataframe\n",
    "\n",
    "\n",
    "def concat_dataframes(array_of_dataframes: list):\n",
    "    \"\"\" Concatenates the input dataframes into one dataframe.\n",
    "\n",
    "    Parameters:\n",
    "    array_of_dataframes (list): list of dataframes to be concatenated\n",
    "\n",
    "    Returns:\n",
    "    pd.DataFrame: concatenated dataframe\n",
    "\n",
    "    \"\"\"\n",
    "    return pd.concat(array_of_dataframes).reset_index(drop=True).reset_index(drop=True)\n",
    "\n",
    "\n",
    "def change_time_format(dataframe: pd.DataFrame):\n",
    "    \"\"\" Changes the format of the 'start_time' and 'end_time' columns in the input dataframe.\n",
    "\n",
    "    Parameters:\n",
    "    dataframe (pd.DataFrame): dataframe to be modified\n",
    "\n",
    "    Returns:\n",
    "    pd.DataFrame: dataframe with the changed time format\n",
    "    \"\"\"\n",
    "    time = ['start_time', 'end_time']\n",
    "    for when in time:\n",
    "        dataframe[when] = pd.to_datetime(dataframe[when], format='%Y-%m-%d %H:%M:%S')\n",
    "\n",
    "    return dataframe\n",
    "\n",
    "\n",
    "def dataframe_to_csv(dataframe: pd.DataFrame, filename: str, indx: bool) -> None:\n",
    "    \"\"\" Saves the input dataframe to a csv file with the given filename.\n",
    "    When indx is True, the index column will be saved to the csv file.\n",
    "    Also convert 'start_time' and 'end_time' columns in dataframe to datetime.\n",
    "    We use this since SQL Lite wants an index column but Postgres does not.\n",
    "\n",
    "    Parameters:\n",
    "    dataframe (pd.DataFrame): dataframe to be saved\n",
    "    filename (str): name of the file\n",
    "    indx (bool): True if index is to be saved, False if not\n",
    "\n",
    "    Returns:\n",
    "    None\n",
    "    \"\"\"\n",
    "    if indx:\n",
    "        dataframe.index.name = \"id\"\n",
    "        dataframe.index += 1\n",
    "\n",
    "    if filename == \"helsinki_bike_data\":\n",
    "        dataframe = change_time_format(dataframe)\n",
    "\n",
    "    print(f\"Saving dataframe, please wait...\\n\")\n",
    "    dataframe.to_csv(Path.cwd() / 'data' / f\"{filename}_new.csv\", index=indx, sep=\";\", encoding='utf-8', header=True)\n",
    "\n",
    "    try:\n",
    "        print(f\"Dataframe saved to {filename}_new.csv\")\n",
    "    except FileNotFoundError:\n",
    "        print(\"File not found\")\n",
    "\n",
    "\n",
    "def sort_by_column(dataframe: pd.DataFrame, sort_by: str):\n",
    "    \"\"\" Sorts the input dataframe by the given column name.\n",
    "\n",
    "    Parameters:\n",
    "    dataframe (pd.DataFrame): dataframe to be sorted\n",
    "    sort_by (str): column name to sort by\n",
    "\n",
    "    Returns:\n",
    "    pd.DataFrame: sorted dataframe\n",
    "    \"\"\"\n",
    "    return dataframe.sort_values(by=[sort_by], ascending=True).reset_index(drop=True)\n",
    "\n",
    "\n",
    "def combine_lat_long(row, start: bool = True):\n",
    "    if start:\n",
    "        return f\"{row['start_station_latitude']}, {row['start_station_longitude']}\"\n",
    "    else:\n",
    "        return f\"{row['end_station_latitude']}, {row['end_station_longitude']}\"\n",
    "\n",
    "\n",
    "def merge_station_data_and_bike_data(bike_data: pd.DataFrame, station_data: pd.DataFrame):\n",
    "    \"\"\" Merges the input dataframes into one dataframe.\n",
    "\n",
    "    Merged columns:\n",
    "    id, start_time, end_time, start_station_id, start_station_name, start_station_location, end_station_id, end_station_name, end_station_location, distance_m, duration_s\n",
    "\n",
    "    Parameters:\n",
    "    bike_data (pd.DataFrame): dataframe containing bike data\n",
    "    station_data (pd.DataFrame): dataframe containing station data\n",
    "\n",
    "    Returns:\n",
    "    pd.DataFrame: merged dataframe\n",
    "    \"\"\"\n",
    "    tqdm.pandas()\n",
    "    merged_df = pd.merge(bike_data, station_data, left_on=\"start_station_id\", right_on=\"station_id\", how=\"left\")\n",
    "    merged_df = pd.merge(merged_df, station_data, left_on=\"end_station_id\", right_on=\"station_id\", how=\"left\")\n",
    "    merged_df = merged_df.rename(columns={\"name_x\": \"start_station_name\", \"address_x\": \"start_station_address\",\n",
    "                                          \"longitude_x\": \"start_station_longitude\",\n",
    "                                          \"latitude_x\": \"start_station_latitude\",\n",
    "                                          \"name_y\": \"end_station_name\", \"address_y\": \"end_station_address\",\n",
    "                                          \"longitude_y\": \"end_station_longitude\", \"latitude_y\": \"end_station_latitude\"})\n",
    "    merged_df = merged_df.drop(\n",
    "        columns=[\"station_id_x\", \"station_id_y\", \"end_station_address\", \"start_station_address\"])\n",
    "\n",
    "    print(\n",
    "        f\"\\nCombining latitude and longitude into one column, start_station_location and end_station_location\\n{'-' * 100}\")\n",
    "    merged_df[\"start_station_location\"] = merged_df.progress_apply(lambda row: combine_lat_long(row, start=True),\n",
    "                                                                   axis=1)\n",
    "    merged_df[\"end_station_location\"] = merged_df.progress_apply(lambda row: combine_lat_long(row, start=False), axis=1)\n",
    "\n",
    "    merged_df = merged_df.drop(\n",
    "        columns=[\"start_station_latitude\", \"start_station_longitude\", \"end_station_latitude\", \"end_station_longitude\"])\n",
    "\n",
    "    merged_df = merged_df.reindex(\n",
    "        columns=[\"start_time\", \"end_time\", \"start_station_id\", \"start_station_name\", \"start_station_location\",\n",
    "                 \"end_station_id\", \"end_station_name\", \"end_station_location\",\n",
    "                 \"distance_m\", \"duration_s\"])\n",
    "\n",
    "    return merged_df\n"
   ],
   "metadata": {
    "collapsed": false,
    "pycharm": {
     "name": "#%%\n"
    }
   }
  },
  {
   "cell_type": "markdown",
   "source": [
    "# Section: Inspect the original data"
   ],
   "metadata": {
    "collapsed": false,
    "pycharm": {
     "name": "#%% md\n"
    }
   }
  },
  {
   "cell_type": "code",
   "execution_count": 117,
   "outputs": [
    {
     "data": {
      "text/plain": "             Departure               Return  Departure station id  \\\n0  2021-05-31T23:57:25  2021-06-01T00:05:46                    94   \n1  2021-05-31T23:56:59  2021-06-01T00:07:14                    82   \n2  2021-05-31T23:56:44  2021-06-01T00:03:26                   123   \n3  2021-05-31T23:56:23  2021-06-01T00:29:58                     4   \n4  2021-05-31T23:56:11  2021-06-01T00:02:02                     4   \n5  2021-05-31T23:54:48  2021-06-01T00:00:57                   292   \n6  2021-05-31T23:54:11  2021-06-01T00:17:11                    34   \n7  2021-05-31T23:53:04  2021-06-01T00:14:52                   240   \n8  2021-05-31T23:52:03  2021-06-01T00:15:16                   116   \n9  2021-05-31T23:50:19  2021-06-01T00:05:58                   116   \n\n  Departure station name  Return station id Return station name  \\\n0      Laajalahden aukio                100           Teljäntie   \n1            Töölöntulli                113       Pasilan asema   \n2             Näkinsilta                121    Vilhonvuorenkatu   \n3              Viiskulma                 65    Hernesaarenranta   \n4              Viiskulma                 65    Hernesaarenranta   \n5       Koskelan varikko                133      Paavalinpuisto   \n6         Kansallismuseo                 81      Stenbäckinkatu   \n7   Viikin normaalikoulu                281         Puotila (M)   \n8             Linnanmäki                117    Brahen puistikko   \n9             Linnanmäki                145        Pohjolankatu   \n\n   Covered distance (m)  Duration (sec.)  \n0                2043.0              500  \n1                1870.0              611  \n2                1025.0              399  \n3                4318.0             2009  \n4                1400.0              350  \n5                1713.0              366  \n6                2550.0             1377  \n7                5366.0             1304  \n8                3344.0             1393  \n9                3248.0              935  ",
      "text/html": "<div>\n<style scoped>\n    .dataframe tbody tr th:only-of-type {\n        vertical-align: middle;\n    }\n\n    .dataframe tbody tr th {\n        vertical-align: top;\n    }\n\n    .dataframe thead th {\n        text-align: right;\n    }\n</style>\n<table border=\"1\" class=\"dataframe\">\n  <thead>\n    <tr style=\"text-align: right;\">\n      <th></th>\n      <th>Departure</th>\n      <th>Return</th>\n      <th>Departure station id</th>\n      <th>Departure station name</th>\n      <th>Return station id</th>\n      <th>Return station name</th>\n      <th>Covered distance (m)</th>\n      <th>Duration (sec.)</th>\n    </tr>\n  </thead>\n  <tbody>\n    <tr>\n      <th>0</th>\n      <td>2021-05-31T23:57:25</td>\n      <td>2021-06-01T00:05:46</td>\n      <td>94</td>\n      <td>Laajalahden aukio</td>\n      <td>100</td>\n      <td>Teljäntie</td>\n      <td>2043.0</td>\n      <td>500</td>\n    </tr>\n    <tr>\n      <th>1</th>\n      <td>2021-05-31T23:56:59</td>\n      <td>2021-06-01T00:07:14</td>\n      <td>82</td>\n      <td>Töölöntulli</td>\n      <td>113</td>\n      <td>Pasilan asema</td>\n      <td>1870.0</td>\n      <td>611</td>\n    </tr>\n    <tr>\n      <th>2</th>\n      <td>2021-05-31T23:56:44</td>\n      <td>2021-06-01T00:03:26</td>\n      <td>123</td>\n      <td>Näkinsilta</td>\n      <td>121</td>\n      <td>Vilhonvuorenkatu</td>\n      <td>1025.0</td>\n      <td>399</td>\n    </tr>\n    <tr>\n      <th>3</th>\n      <td>2021-05-31T23:56:23</td>\n      <td>2021-06-01T00:29:58</td>\n      <td>4</td>\n      <td>Viiskulma</td>\n      <td>65</td>\n      <td>Hernesaarenranta</td>\n      <td>4318.0</td>\n      <td>2009</td>\n    </tr>\n    <tr>\n      <th>4</th>\n      <td>2021-05-31T23:56:11</td>\n      <td>2021-06-01T00:02:02</td>\n      <td>4</td>\n      <td>Viiskulma</td>\n      <td>65</td>\n      <td>Hernesaarenranta</td>\n      <td>1400.0</td>\n      <td>350</td>\n    </tr>\n    <tr>\n      <th>5</th>\n      <td>2021-05-31T23:54:48</td>\n      <td>2021-06-01T00:00:57</td>\n      <td>292</td>\n      <td>Koskelan varikko</td>\n      <td>133</td>\n      <td>Paavalinpuisto</td>\n      <td>1713.0</td>\n      <td>366</td>\n    </tr>\n    <tr>\n      <th>6</th>\n      <td>2021-05-31T23:54:11</td>\n      <td>2021-06-01T00:17:11</td>\n      <td>34</td>\n      <td>Kansallismuseo</td>\n      <td>81</td>\n      <td>Stenbäckinkatu</td>\n      <td>2550.0</td>\n      <td>1377</td>\n    </tr>\n    <tr>\n      <th>7</th>\n      <td>2021-05-31T23:53:04</td>\n      <td>2021-06-01T00:14:52</td>\n      <td>240</td>\n      <td>Viikin normaalikoulu</td>\n      <td>281</td>\n      <td>Puotila (M)</td>\n      <td>5366.0</td>\n      <td>1304</td>\n    </tr>\n    <tr>\n      <th>8</th>\n      <td>2021-05-31T23:52:03</td>\n      <td>2021-06-01T00:15:16</td>\n      <td>116</td>\n      <td>Linnanmäki</td>\n      <td>117</td>\n      <td>Brahen puistikko</td>\n      <td>3344.0</td>\n      <td>1393</td>\n    </tr>\n    <tr>\n      <th>9</th>\n      <td>2021-05-31T23:50:19</td>\n      <td>2021-06-01T00:05:58</td>\n      <td>116</td>\n      <td>Linnanmäki</td>\n      <td>145</td>\n      <td>Pohjolankatu</td>\n      <td>3248.0</td>\n      <td>935</td>\n    </tr>\n  </tbody>\n</table>\n</div>"
     },
     "execution_count": 117,
     "metadata": {},
     "output_type": "execute_result"
    }
   ],
   "source": [
    "get_data('./data/2021-05.csv').head(10)"
   ],
   "metadata": {
    "collapsed": false,
    "pycharm": {
     "name": "#%%\n"
    }
   }
  },
  {
   "cell_type": "code",
   "execution_count": 118,
   "outputs": [
    {
     "data": {
      "text/plain": "             Departure               Return  Departure station id  \\\n0  2021-06-30T23:59:46  2021-06-30T23:59:55                    41   \n1  2021-06-30T23:59:36  2021-07-01T00:06:21                   107   \n2  2021-06-30T23:59:34  2021-07-01T00:06:23                     9   \n3  2021-06-30T23:59:34  2021-07-01T00:08:00                   113   \n4  2021-06-30T23:59:25  2021-07-01T00:22:15                    41   \n5  2021-06-30T23:59:25  2021-07-01T00:14:06                   259   \n6  2021-06-30T23:59:21  2021-07-01T00:24:48                   391   \n7  2021-06-30T23:59:07  2021-07-01T00:16:00                    46   \n8  2021-06-30T23:59:02  2021-07-01T00:04:05                   280   \n9  2021-06-30T23:58:54  2021-07-01T00:22:04                    72   \n\n    Departure station name  Return station id Return station name  \\\n0               Ympyrätalo                 41          Ympyrätalo   \n1              Tenholantie                111       Esterinportti   \n2          Erottajan aukio                 40       Hakaniemi (M)   \n3            Pasilan asema                107         Tenholantie   \n4               Ympyrätalo                 11         Unioninkatu   \n5      Petter Wetterin tie                248         Gunillantie   \n6              Tollinpolku                387  Kauppakeskus Kaari   \n7           Diakoniapuisto                 67      Perämiehenkatu   \n8     Puotilan ostoskeskus                278         Puotilantie   \n9  Eteläinen Hesperiankatu                121    Vilhonvuorenkatu   \n\n   Covered distance (m)  Duration (sec.)  \n0                   0.0                8  \n1                1847.0              407  \n2                1602.0              405  \n3                2277.0              502  \n4                4010.0             1366  \n5                3555.0              877  \n6                4337.0             1526  \n7                4265.0             1008  \n8                 855.0              302  \n9                4627.0             1385  ",
      "text/html": "<div>\n<style scoped>\n    .dataframe tbody tr th:only-of-type {\n        vertical-align: middle;\n    }\n\n    .dataframe tbody tr th {\n        vertical-align: top;\n    }\n\n    .dataframe thead th {\n        text-align: right;\n    }\n</style>\n<table border=\"1\" class=\"dataframe\">\n  <thead>\n    <tr style=\"text-align: right;\">\n      <th></th>\n      <th>Departure</th>\n      <th>Return</th>\n      <th>Departure station id</th>\n      <th>Departure station name</th>\n      <th>Return station id</th>\n      <th>Return station name</th>\n      <th>Covered distance (m)</th>\n      <th>Duration (sec.)</th>\n    </tr>\n  </thead>\n  <tbody>\n    <tr>\n      <th>0</th>\n      <td>2021-06-30T23:59:46</td>\n      <td>2021-06-30T23:59:55</td>\n      <td>41</td>\n      <td>Ympyrätalo</td>\n      <td>41</td>\n      <td>Ympyrätalo</td>\n      <td>0.0</td>\n      <td>8</td>\n    </tr>\n    <tr>\n      <th>1</th>\n      <td>2021-06-30T23:59:36</td>\n      <td>2021-07-01T00:06:21</td>\n      <td>107</td>\n      <td>Tenholantie</td>\n      <td>111</td>\n      <td>Esterinportti</td>\n      <td>1847.0</td>\n      <td>407</td>\n    </tr>\n    <tr>\n      <th>2</th>\n      <td>2021-06-30T23:59:34</td>\n      <td>2021-07-01T00:06:23</td>\n      <td>9</td>\n      <td>Erottajan aukio</td>\n      <td>40</td>\n      <td>Hakaniemi (M)</td>\n      <td>1602.0</td>\n      <td>405</td>\n    </tr>\n    <tr>\n      <th>3</th>\n      <td>2021-06-30T23:59:34</td>\n      <td>2021-07-01T00:08:00</td>\n      <td>113</td>\n      <td>Pasilan asema</td>\n      <td>107</td>\n      <td>Tenholantie</td>\n      <td>2277.0</td>\n      <td>502</td>\n    </tr>\n    <tr>\n      <th>4</th>\n      <td>2021-06-30T23:59:25</td>\n      <td>2021-07-01T00:22:15</td>\n      <td>41</td>\n      <td>Ympyrätalo</td>\n      <td>11</td>\n      <td>Unioninkatu</td>\n      <td>4010.0</td>\n      <td>1366</td>\n    </tr>\n    <tr>\n      <th>5</th>\n      <td>2021-06-30T23:59:25</td>\n      <td>2021-07-01T00:14:06</td>\n      <td>259</td>\n      <td>Petter Wetterin tie</td>\n      <td>248</td>\n      <td>Gunillantie</td>\n      <td>3555.0</td>\n      <td>877</td>\n    </tr>\n    <tr>\n      <th>6</th>\n      <td>2021-06-30T23:59:21</td>\n      <td>2021-07-01T00:24:48</td>\n      <td>391</td>\n      <td>Tollinpolku</td>\n      <td>387</td>\n      <td>Kauppakeskus Kaari</td>\n      <td>4337.0</td>\n      <td>1526</td>\n    </tr>\n    <tr>\n      <th>7</th>\n      <td>2021-06-30T23:59:07</td>\n      <td>2021-07-01T00:16:00</td>\n      <td>46</td>\n      <td>Diakoniapuisto</td>\n      <td>67</td>\n      <td>Perämiehenkatu</td>\n      <td>4265.0</td>\n      <td>1008</td>\n    </tr>\n    <tr>\n      <th>8</th>\n      <td>2021-06-30T23:59:02</td>\n      <td>2021-07-01T00:04:05</td>\n      <td>280</td>\n      <td>Puotilan ostoskeskus</td>\n      <td>278</td>\n      <td>Puotilantie</td>\n      <td>855.0</td>\n      <td>302</td>\n    </tr>\n    <tr>\n      <th>9</th>\n      <td>2021-06-30T23:58:54</td>\n      <td>2021-07-01T00:22:04</td>\n      <td>72</td>\n      <td>Eteläinen Hesperiankatu</td>\n      <td>121</td>\n      <td>Vilhonvuorenkatu</td>\n      <td>4627.0</td>\n      <td>1385</td>\n    </tr>\n  </tbody>\n</table>\n</div>"
     },
     "execution_count": 118,
     "metadata": {},
     "output_type": "execute_result"
    }
   ],
   "source": [
    "get_data('./data/2021-06.csv').head(10)"
   ],
   "metadata": {
    "collapsed": false,
    "pycharm": {
     "name": "#%%\n"
    }
   }
  },
  {
   "cell_type": "code",
   "execution_count": 119,
   "outputs": [
    {
     "data": {
      "text/plain": "             Departure               Return  Departure station id  \\\n0  2021-07-31T23:59:59  2021-08-01T00:09:15                   113   \n1  2021-07-31T23:59:55  2021-08-01T00:08:45                   135   \n2  2021-07-31T23:59:55  2021-08-01T00:03:24                   258   \n3  2021-07-31T23:59:47  2021-08-01T00:05:52                   122   \n4  2021-07-31T23:59:33  2021-08-01T00:14:49                   126   \n5  2021-07-31T23:59:28  2021-08-01T00:06:23                   115   \n6  2021-07-31T23:59:22  2021-08-01T00:06:14                   347   \n7  2021-07-31T23:59:11  2021-08-01T00:06:11                   347   \n8  2021-07-31T23:59:01  2021-08-01T00:09:56                    21   \n9  2021-07-31T23:58:35  2021-08-01T00:23:48                    87   \n\n  Departure station name  Return station id    Return station name  \\\n0          Pasilan asema                 78       Messeniuksenkatu   \n1        Velodrominrinne                115          Venttiilikuja   \n2   Abraham Wetterin tie                260        Herttoniemi (M)   \n3        Lintulahdenkatu                 16        Liisanpuistikko   \n4         Kalasatama (M)                255  Laivalahden puistotie   \n5          Venttiilikuja                 43            Karhupuisto   \n6        Sateenkaarentie                344        Puistolan asema   \n7        Sateenkaarentie                344        Puistolan asema   \n8       Töölönlahdenkatu                 58      Lauttasaarensilta   \n9            Kustaankatu                 95     Munkkiniemen aukio   \n\n   Covered distance (m)  Duration (sec.)  \n0                1602.0              553  \n1                1307.0              532  \n2                 820.0              205  \n3                1298.0              369  \n4                3875.0              912  \n5                1482.0              410  \n6                1698.0              410  \n7                1658.0              416  \n8                3150.0              649  \n9                4835.0             1509  ",
      "text/html": "<div>\n<style scoped>\n    .dataframe tbody tr th:only-of-type {\n        vertical-align: middle;\n    }\n\n    .dataframe tbody tr th {\n        vertical-align: top;\n    }\n\n    .dataframe thead th {\n        text-align: right;\n    }\n</style>\n<table border=\"1\" class=\"dataframe\">\n  <thead>\n    <tr style=\"text-align: right;\">\n      <th></th>\n      <th>Departure</th>\n      <th>Return</th>\n      <th>Departure station id</th>\n      <th>Departure station name</th>\n      <th>Return station id</th>\n      <th>Return station name</th>\n      <th>Covered distance (m)</th>\n      <th>Duration (sec.)</th>\n    </tr>\n  </thead>\n  <tbody>\n    <tr>\n      <th>0</th>\n      <td>2021-07-31T23:59:59</td>\n      <td>2021-08-01T00:09:15</td>\n      <td>113</td>\n      <td>Pasilan asema</td>\n      <td>78</td>\n      <td>Messeniuksenkatu</td>\n      <td>1602.0</td>\n      <td>553</td>\n    </tr>\n    <tr>\n      <th>1</th>\n      <td>2021-07-31T23:59:55</td>\n      <td>2021-08-01T00:08:45</td>\n      <td>135</td>\n      <td>Velodrominrinne</td>\n      <td>115</td>\n      <td>Venttiilikuja</td>\n      <td>1307.0</td>\n      <td>532</td>\n    </tr>\n    <tr>\n      <th>2</th>\n      <td>2021-07-31T23:59:55</td>\n      <td>2021-08-01T00:03:24</td>\n      <td>258</td>\n      <td>Abraham Wetterin tie</td>\n      <td>260</td>\n      <td>Herttoniemi (M)</td>\n      <td>820.0</td>\n      <td>205</td>\n    </tr>\n    <tr>\n      <th>3</th>\n      <td>2021-07-31T23:59:47</td>\n      <td>2021-08-01T00:05:52</td>\n      <td>122</td>\n      <td>Lintulahdenkatu</td>\n      <td>16</td>\n      <td>Liisanpuistikko</td>\n      <td>1298.0</td>\n      <td>369</td>\n    </tr>\n    <tr>\n      <th>4</th>\n      <td>2021-07-31T23:59:33</td>\n      <td>2021-08-01T00:14:49</td>\n      <td>126</td>\n      <td>Kalasatama (M)</td>\n      <td>255</td>\n      <td>Laivalahden puistotie</td>\n      <td>3875.0</td>\n      <td>912</td>\n    </tr>\n    <tr>\n      <th>5</th>\n      <td>2021-07-31T23:59:28</td>\n      <td>2021-08-01T00:06:23</td>\n      <td>115</td>\n      <td>Venttiilikuja</td>\n      <td>43</td>\n      <td>Karhupuisto</td>\n      <td>1482.0</td>\n      <td>410</td>\n    </tr>\n    <tr>\n      <th>6</th>\n      <td>2021-07-31T23:59:22</td>\n      <td>2021-08-01T00:06:14</td>\n      <td>347</td>\n      <td>Sateenkaarentie</td>\n      <td>344</td>\n      <td>Puistolan asema</td>\n      <td>1698.0</td>\n      <td>410</td>\n    </tr>\n    <tr>\n      <th>7</th>\n      <td>2021-07-31T23:59:11</td>\n      <td>2021-08-01T00:06:11</td>\n      <td>347</td>\n      <td>Sateenkaarentie</td>\n      <td>344</td>\n      <td>Puistolan asema</td>\n      <td>1658.0</td>\n      <td>416</td>\n    </tr>\n    <tr>\n      <th>8</th>\n      <td>2021-07-31T23:59:01</td>\n      <td>2021-08-01T00:09:56</td>\n      <td>21</td>\n      <td>Töölönlahdenkatu</td>\n      <td>58</td>\n      <td>Lauttasaarensilta</td>\n      <td>3150.0</td>\n      <td>649</td>\n    </tr>\n    <tr>\n      <th>9</th>\n      <td>2021-07-31T23:58:35</td>\n      <td>2021-08-01T00:23:48</td>\n      <td>87</td>\n      <td>Kustaankatu</td>\n      <td>95</td>\n      <td>Munkkiniemen aukio</td>\n      <td>4835.0</td>\n      <td>1509</td>\n    </tr>\n  </tbody>\n</table>\n</div>"
     },
     "execution_count": 119,
     "metadata": {},
     "output_type": "execute_result"
    }
   ],
   "source": [
    "get_data('./data/2021-07.csv').head(10)"
   ],
   "metadata": {
    "collapsed": false,
    "pycharm": {
     "name": "#%%\n"
    }
   }
  },
  {
   "cell_type": "code",
   "execution_count": 120,
   "outputs": [
    {
     "data": {
      "text/plain": "   FID   ID             Nimi              Namn             Name  \\\n0    1  501        Hanasaari        Hanaholmen        Hanasaari   \n1    2  503       Keilalahti        Kägelviken       Keilalahti   \n2    3  505   Westendinasema  Westendstationen   Westendinasema   \n3    4  507        Golfpolku        Golfstigen        Golfpolku   \n4    5  509    Revontulentie    Norrskensvägen    Revontulentie   \n5    6  511        Sateentie         Regnvägen        Sateentie   \n6    7  513        Hakalehto          Hagliden        Hakalehto   \n7    8  515  Oravannahkatori   Gråskinnstorget  Oravannahkatori   \n8    9  517       Länsituuli      Västanvinden       Länsituuli   \n9   10  518        Tuulimäki       Väderbacken        Tuulimäki   \n\n              Osoite                Adress Kaupunki  Stad        Operaattor  \\\n0  Hanasaarenranta 1   Hanaholmsstranden 1    Espoo  Esbo  CityBike Finland   \n1   Keilalahdentie 2      Kägelviksvägen 2    Espoo  Esbo  CityBike Finland   \n2     Westendintie 1        Westendvägen 1    Espoo  Esbo  CityBike Finland   \n3        Golfpolku 3          Golfstigen 3    Espoo  Esbo  CityBike Finland   \n4   Revontulentie 10     Norrskensvägen 10    Espoo  Esbo  CityBike Finland   \n5        Sateentie 2           Regnvägen 2    Espoo  Esbo  CityBike Finland   \n6   Merituulentie 18     Havsvindsvägen 18    Espoo  Esbo  CityBike Finland   \n7  Oravannahkatori 1     Gråskinnstorget 1    Espoo  Esbo  CityBike Finland   \n8  Länsituulenkuja 3  Västanvindsgränden 3    Espoo  Esbo  CityBike Finland   \n9   Itätuulenkuja 11  Östanvindsgränden 11    Espoo  Esbo  CityBike Finland   \n\n   Kapasiteet          x          y  \n0          10  24.840319  60.165820  \n1          28  24.827467  60.171524  \n2          16  24.805758  60.168266  \n3          16  24.796136  60.168143  \n4          30  24.802938  60.171551  \n5          18  24.810688  60.173424  \n6          24  24.791390  60.173567  \n7          16  24.792559  60.175769  \n8          24  24.802049  60.175358  \n9          18  24.806051  60.174144  ",
      "text/html": "<div>\n<style scoped>\n    .dataframe tbody tr th:only-of-type {\n        vertical-align: middle;\n    }\n\n    .dataframe tbody tr th {\n        vertical-align: top;\n    }\n\n    .dataframe thead th {\n        text-align: right;\n    }\n</style>\n<table border=\"1\" class=\"dataframe\">\n  <thead>\n    <tr style=\"text-align: right;\">\n      <th></th>\n      <th>FID</th>\n      <th>ID</th>\n      <th>Nimi</th>\n      <th>Namn</th>\n      <th>Name</th>\n      <th>Osoite</th>\n      <th>Adress</th>\n      <th>Kaupunki</th>\n      <th>Stad</th>\n      <th>Operaattor</th>\n      <th>Kapasiteet</th>\n      <th>x</th>\n      <th>y</th>\n    </tr>\n  </thead>\n  <tbody>\n    <tr>\n      <th>0</th>\n      <td>1</td>\n      <td>501</td>\n      <td>Hanasaari</td>\n      <td>Hanaholmen</td>\n      <td>Hanasaari</td>\n      <td>Hanasaarenranta 1</td>\n      <td>Hanaholmsstranden 1</td>\n      <td>Espoo</td>\n      <td>Esbo</td>\n      <td>CityBike Finland</td>\n      <td>10</td>\n      <td>24.840319</td>\n      <td>60.165820</td>\n    </tr>\n    <tr>\n      <th>1</th>\n      <td>2</td>\n      <td>503</td>\n      <td>Keilalahti</td>\n      <td>Kägelviken</td>\n      <td>Keilalahti</td>\n      <td>Keilalahdentie 2</td>\n      <td>Kägelviksvägen 2</td>\n      <td>Espoo</td>\n      <td>Esbo</td>\n      <td>CityBike Finland</td>\n      <td>28</td>\n      <td>24.827467</td>\n      <td>60.171524</td>\n    </tr>\n    <tr>\n      <th>2</th>\n      <td>3</td>\n      <td>505</td>\n      <td>Westendinasema</td>\n      <td>Westendstationen</td>\n      <td>Westendinasema</td>\n      <td>Westendintie 1</td>\n      <td>Westendvägen 1</td>\n      <td>Espoo</td>\n      <td>Esbo</td>\n      <td>CityBike Finland</td>\n      <td>16</td>\n      <td>24.805758</td>\n      <td>60.168266</td>\n    </tr>\n    <tr>\n      <th>3</th>\n      <td>4</td>\n      <td>507</td>\n      <td>Golfpolku</td>\n      <td>Golfstigen</td>\n      <td>Golfpolku</td>\n      <td>Golfpolku 3</td>\n      <td>Golfstigen 3</td>\n      <td>Espoo</td>\n      <td>Esbo</td>\n      <td>CityBike Finland</td>\n      <td>16</td>\n      <td>24.796136</td>\n      <td>60.168143</td>\n    </tr>\n    <tr>\n      <th>4</th>\n      <td>5</td>\n      <td>509</td>\n      <td>Revontulentie</td>\n      <td>Norrskensvägen</td>\n      <td>Revontulentie</td>\n      <td>Revontulentie 10</td>\n      <td>Norrskensvägen 10</td>\n      <td>Espoo</td>\n      <td>Esbo</td>\n      <td>CityBike Finland</td>\n      <td>30</td>\n      <td>24.802938</td>\n      <td>60.171551</td>\n    </tr>\n    <tr>\n      <th>5</th>\n      <td>6</td>\n      <td>511</td>\n      <td>Sateentie</td>\n      <td>Regnvägen</td>\n      <td>Sateentie</td>\n      <td>Sateentie 2</td>\n      <td>Regnvägen 2</td>\n      <td>Espoo</td>\n      <td>Esbo</td>\n      <td>CityBike Finland</td>\n      <td>18</td>\n      <td>24.810688</td>\n      <td>60.173424</td>\n    </tr>\n    <tr>\n      <th>6</th>\n      <td>7</td>\n      <td>513</td>\n      <td>Hakalehto</td>\n      <td>Hagliden</td>\n      <td>Hakalehto</td>\n      <td>Merituulentie 18</td>\n      <td>Havsvindsvägen 18</td>\n      <td>Espoo</td>\n      <td>Esbo</td>\n      <td>CityBike Finland</td>\n      <td>24</td>\n      <td>24.791390</td>\n      <td>60.173567</td>\n    </tr>\n    <tr>\n      <th>7</th>\n      <td>8</td>\n      <td>515</td>\n      <td>Oravannahkatori</td>\n      <td>Gråskinnstorget</td>\n      <td>Oravannahkatori</td>\n      <td>Oravannahkatori 1</td>\n      <td>Gråskinnstorget 1</td>\n      <td>Espoo</td>\n      <td>Esbo</td>\n      <td>CityBike Finland</td>\n      <td>16</td>\n      <td>24.792559</td>\n      <td>60.175769</td>\n    </tr>\n    <tr>\n      <th>8</th>\n      <td>9</td>\n      <td>517</td>\n      <td>Länsituuli</td>\n      <td>Västanvinden</td>\n      <td>Länsituuli</td>\n      <td>Länsituulenkuja 3</td>\n      <td>Västanvindsgränden 3</td>\n      <td>Espoo</td>\n      <td>Esbo</td>\n      <td>CityBike Finland</td>\n      <td>24</td>\n      <td>24.802049</td>\n      <td>60.175358</td>\n    </tr>\n    <tr>\n      <th>9</th>\n      <td>10</td>\n      <td>518</td>\n      <td>Tuulimäki</td>\n      <td>Väderbacken</td>\n      <td>Tuulimäki</td>\n      <td>Itätuulenkuja 11</td>\n      <td>Östanvindsgränden 11</td>\n      <td>Espoo</td>\n      <td>Esbo</td>\n      <td>CityBike Finland</td>\n      <td>18</td>\n      <td>24.806051</td>\n      <td>60.174144</td>\n    </tr>\n  </tbody>\n</table>\n</div>"
     },
     "execution_count": 120,
     "metadata": {},
     "output_type": "execute_result"
    }
   ],
   "source": [
    "get_data('./data/station_data.csv').head(10)"
   ],
   "metadata": {
    "collapsed": false,
    "pycharm": {
     "name": "#%%\n"
    }
   }
  },
  {
   "cell_type": "markdown",
   "source": [
    "# Section: Run the functions\n",
    "Process bikedata (2021-05, 2021-06, 2021-07) and save the dataframes to csv files."
   ],
   "metadata": {
    "collapsed": false,
    "pycharm": {
     "name": "#%% md\n"
    }
   }
  },
  {
   "cell_type": "code",
   "execution_count": 121,
   "outputs": [
    {
     "name": "stdout",
     "output_type": "stream",
     "text": [
      "Cleaning bikedata\n",
      "----------------------------------------------------------------------------------------------------\n",
      "Number of rows dropped: 422027\n",
      "--------------------------------------------------\n",
      "Number of rows dropped: 634062\n",
      "--------------------------------------------------\n",
      "Number of rows dropped: 626534\n",
      "--------------------------------------------------\n",
      "\n",
      "Combining latitude and longitude into one column, start_station_location and end_station_location\n",
      "----------------------------------------------------------------------------------------------------\n"
     ]
    },
    {
     "name": "stderr",
     "output_type": "stream",
     "text": [
      "100%|██████████| 1564379/1564379 [00:12<00:00, 126585.46it/s]\n",
      "100%|██████████| 1564379/1564379 [00:12<00:00, 125350.10it/s]\n"
     ]
    },
    {
     "name": "stdout",
     "output_type": "stream",
     "text": [
      "Saving dataframe, please wait...\n",
      "\n",
      "Dataframe saved to helsinki_bike_data_new.csv\n"
     ]
    }
   ],
   "source": [
    "\"\"\"\n",
    "Section: Run the functions\n",
    "1. Process bikedata (2021-05, 2021-06, 2021-07) and save the dataframes to csv files.\n",
    "\"\"\"\n",
    "\n",
    "print(f\"Cleaning bikedata\\n{'-' * 100}\")\n",
    "dataframe_1 = change_column_data_type(drop_columns(\n",
    "    dataframe=drop_distances_and_durations_under_10(replace_chars_on_column(get_data('./data/2021-05.csv'))),\n",
    "    columns_to_drop=['departure_station_name', 'return_station_name']))\n",
    "dataframe_2 = drop_columns(\n",
    "    dataframe=drop_distances_and_durations_under_10(replace_chars_on_column(get_data('./data/2021-06.csv'))),\n",
    "    columns_to_drop=['departure_station_name', 'return_station_name'])\n",
    "dataframe_3 = drop_columns(\n",
    "    dataframe=drop_distances_and_durations_under_10(replace_chars_on_column(get_data('./data/2021-07.csv'))),\n",
    "    columns_to_drop=['departure_station_name', 'return_station_name'])\n",
    "\n",
    "merged_dataframe = concat_dataframes([dataframe_1, dataframe_2, dataframe_3])\n",
    "\n",
    "merged_dataframe = change_column_names(merged_dataframe,\n",
    "                                       columns_to_change={'covered_distance_m': 'distance_m',\n",
    "                                                          'duration_sec': 'duration_s',\n",
    "                                                          \"departure_station_id\": \"start_station_id\",\n",
    "                                                          \"return_station_id\": \"end_station_id\",\n",
    "                                                          \"departure\": \"start_time\",\n",
    "                                                          \"return\": \"end_time\"})\n",
    "\n",
    "\"\"\"\n",
    "2. Process station_data.csv and save the dataframe to a csv file.\n",
    "\"\"\"\n",
    "stations = drop_columns(\n",
    "    replace_chars_on_column(dataframe=get_data('./data/station_data.csv')),\n",
    "    columns_to_drop=[\"nimi\", \"fid\", \"stad\", \"operaattor\", \"namn\", \"kapasiteet\", \"adress\", \"kaupunki\"])\n",
    "station_data = change_column_names(\n",
    "    stations, {\"id\": \"station_id\", \"osoite\": \"address\", \"y\": \"latitude\", \"x\": \"longitude\"}\n",
    ")\n",
    "\n",
    "merged_dataframe = merge_station_data_and_bike_data(bike_data=merged_dataframe, station_data=stations)\n",
    "\n",
    "merged_dataframe = sort_by_column(merged_dataframe, 'start_time')\n",
    "dataframe_to_csv(dataframe=merged_dataframe, filename=\"helsinki_bike_data\", indx=True)\n"
   ],
   "metadata": {
    "collapsed": false,
    "pycharm": {
     "name": "#%%\n"
    }
   }
  },
  {
   "cell_type": "markdown",
   "source": [
    "## Section: Inspect random rows from the modified dataframes"
   ],
   "metadata": {
    "collapsed": false,
    "pycharm": {
     "name": "#%% md\n"
    }
   }
  },
  {
   "cell_type": "code",
   "execution_count": 122,
   "outputs": [
    {
     "data": {
      "text/plain": "                  departure               return  departure_station_id  \\\n130123  2021-05-22T21:30:05  2021-05-22T21:39:26                     5   \n5502    2021-05-31T17:01:57  2021-05-31T17:13:22                   118   \n382659  2021-05-03T10:23:44  2021-05-03T10:32:03                    43   \n403189  2021-05-01T12:46:19  2021-05-01T13:27:32                   653   \n150339  2021-05-21T17:14:54  2021-05-21T17:36:28                    64   \n\n        return_station_id  covered_distance_m  duration_sec  \n130123                 64                1764           557  \n5502                  124                2197           679  \n382659                122                 635           494  \n403189                539                5905          2469  \n150339                 55                4887          1293  ",
      "text/html": "<div>\n<style scoped>\n    .dataframe tbody tr th:only-of-type {\n        vertical-align: middle;\n    }\n\n    .dataframe tbody tr th {\n        vertical-align: top;\n    }\n\n    .dataframe thead th {\n        text-align: right;\n    }\n</style>\n<table border=\"1\" class=\"dataframe\">\n  <thead>\n    <tr style=\"text-align: right;\">\n      <th></th>\n      <th>departure</th>\n      <th>return</th>\n      <th>departure_station_id</th>\n      <th>return_station_id</th>\n      <th>covered_distance_m</th>\n      <th>duration_sec</th>\n    </tr>\n  </thead>\n  <tbody>\n    <tr>\n      <th>130123</th>\n      <td>2021-05-22T21:30:05</td>\n      <td>2021-05-22T21:39:26</td>\n      <td>5</td>\n      <td>64</td>\n      <td>1764</td>\n      <td>557</td>\n    </tr>\n    <tr>\n      <th>5502</th>\n      <td>2021-05-31T17:01:57</td>\n      <td>2021-05-31T17:13:22</td>\n      <td>118</td>\n      <td>124</td>\n      <td>2197</td>\n      <td>679</td>\n    </tr>\n    <tr>\n      <th>382659</th>\n      <td>2021-05-03T10:23:44</td>\n      <td>2021-05-03T10:32:03</td>\n      <td>43</td>\n      <td>122</td>\n      <td>635</td>\n      <td>494</td>\n    </tr>\n    <tr>\n      <th>403189</th>\n      <td>2021-05-01T12:46:19</td>\n      <td>2021-05-01T13:27:32</td>\n      <td>653</td>\n      <td>539</td>\n      <td>5905</td>\n      <td>2469</td>\n    </tr>\n    <tr>\n      <th>150339</th>\n      <td>2021-05-21T17:14:54</td>\n      <td>2021-05-21T17:36:28</td>\n      <td>64</td>\n      <td>55</td>\n      <td>4887</td>\n      <td>1293</td>\n    </tr>\n  </tbody>\n</table>\n</div>"
     },
     "execution_count": 122,
     "metadata": {},
     "output_type": "execute_result"
    }
   ],
   "source": [
    "dataframe_1.sample(5)"
   ],
   "metadata": {
    "collapsed": false,
    "pycharm": {
     "name": "#%%\n"
    }
   }
  },
  {
   "cell_type": "code",
   "execution_count": 123,
   "outputs": [
    {
     "data": {
      "text/plain": "                  departure               return  departure_station_id  \\\n544623  2021-06-04T12:51:49  2021-06-04T13:12:18                   349   \n368970  2021-06-12T12:42:05  2021-06-12T13:08:12                   214   \n235427  2021-06-18T22:19:57  2021-06-18T22:31:13                   591   \n232056  2021-06-19T02:25:01  2021-06-19T02:45:18                   111   \n30284   2021-06-29T16:21:30  2021-06-29T16:35:43                   103   \n\n        return_station_id  covered_distance_m  duration_sec  \n544623                339              4039.0          1224  \n368970                113              4692.0          1563  \n235427                581              2068.0           672  \n232056                103              2991.0          1211  \n30284                 208              3320.0           852  ",
      "text/html": "<div>\n<style scoped>\n    .dataframe tbody tr th:only-of-type {\n        vertical-align: middle;\n    }\n\n    .dataframe tbody tr th {\n        vertical-align: top;\n    }\n\n    .dataframe thead th {\n        text-align: right;\n    }\n</style>\n<table border=\"1\" class=\"dataframe\">\n  <thead>\n    <tr style=\"text-align: right;\">\n      <th></th>\n      <th>departure</th>\n      <th>return</th>\n      <th>departure_station_id</th>\n      <th>return_station_id</th>\n      <th>covered_distance_m</th>\n      <th>duration_sec</th>\n    </tr>\n  </thead>\n  <tbody>\n    <tr>\n      <th>544623</th>\n      <td>2021-06-04T12:51:49</td>\n      <td>2021-06-04T13:12:18</td>\n      <td>349</td>\n      <td>339</td>\n      <td>4039.0</td>\n      <td>1224</td>\n    </tr>\n    <tr>\n      <th>368970</th>\n      <td>2021-06-12T12:42:05</td>\n      <td>2021-06-12T13:08:12</td>\n      <td>214</td>\n      <td>113</td>\n      <td>4692.0</td>\n      <td>1563</td>\n    </tr>\n    <tr>\n      <th>235427</th>\n      <td>2021-06-18T22:19:57</td>\n      <td>2021-06-18T22:31:13</td>\n      <td>591</td>\n      <td>581</td>\n      <td>2068.0</td>\n      <td>672</td>\n    </tr>\n    <tr>\n      <th>232056</th>\n      <td>2021-06-19T02:25:01</td>\n      <td>2021-06-19T02:45:18</td>\n      <td>111</td>\n      <td>103</td>\n      <td>2991.0</td>\n      <td>1211</td>\n    </tr>\n    <tr>\n      <th>30284</th>\n      <td>2021-06-29T16:21:30</td>\n      <td>2021-06-29T16:35:43</td>\n      <td>103</td>\n      <td>208</td>\n      <td>3320.0</td>\n      <td>852</td>\n    </tr>\n  </tbody>\n</table>\n</div>"
     },
     "execution_count": 123,
     "metadata": {},
     "output_type": "execute_result"
    }
   ],
   "source": [
    "dataframe_2.sample(5)"
   ],
   "metadata": {
    "collapsed": false,
    "pycharm": {
     "name": "#%%\n"
    }
   }
  },
  {
   "cell_type": "code",
   "execution_count": 124,
   "outputs": [
    {
     "data": {
      "text/plain": "                  departure               return  departure_station_id  \\\n194944  2021-07-20T16:42:16  2021-07-20T16:45:50                   705   \n266965  2021-07-16T17:43:03  2021-07-16T17:47:49                   161   \n600718  2021-07-01T09:52:30  2021-07-01T10:01:22                    39   \n223975  2021-07-18T21:07:34  2021-07-18T21:23:39                    32   \n544321  2021-07-03T17:20:29  2021-07-03T17:26:24                   707   \n\n        return_station_id  covered_distance_m  duration_sec  \n194944                705               753.0           213  \n266965                  8               508.0           282  \n600718                 87              1868.0           528  \n223975                128              3910.0           961  \n544321                727              1341.0           351  ",
      "text/html": "<div>\n<style scoped>\n    .dataframe tbody tr th:only-of-type {\n        vertical-align: middle;\n    }\n\n    .dataframe tbody tr th {\n        vertical-align: top;\n    }\n\n    .dataframe thead th {\n        text-align: right;\n    }\n</style>\n<table border=\"1\" class=\"dataframe\">\n  <thead>\n    <tr style=\"text-align: right;\">\n      <th></th>\n      <th>departure</th>\n      <th>return</th>\n      <th>departure_station_id</th>\n      <th>return_station_id</th>\n      <th>covered_distance_m</th>\n      <th>duration_sec</th>\n    </tr>\n  </thead>\n  <tbody>\n    <tr>\n      <th>194944</th>\n      <td>2021-07-20T16:42:16</td>\n      <td>2021-07-20T16:45:50</td>\n      <td>705</td>\n      <td>705</td>\n      <td>753.0</td>\n      <td>213</td>\n    </tr>\n    <tr>\n      <th>266965</th>\n      <td>2021-07-16T17:43:03</td>\n      <td>2021-07-16T17:47:49</td>\n      <td>161</td>\n      <td>8</td>\n      <td>508.0</td>\n      <td>282</td>\n    </tr>\n    <tr>\n      <th>600718</th>\n      <td>2021-07-01T09:52:30</td>\n      <td>2021-07-01T10:01:22</td>\n      <td>39</td>\n      <td>87</td>\n      <td>1868.0</td>\n      <td>528</td>\n    </tr>\n    <tr>\n      <th>223975</th>\n      <td>2021-07-18T21:07:34</td>\n      <td>2021-07-18T21:23:39</td>\n      <td>32</td>\n      <td>128</td>\n      <td>3910.0</td>\n      <td>961</td>\n    </tr>\n    <tr>\n      <th>544321</th>\n      <td>2021-07-03T17:20:29</td>\n      <td>2021-07-03T17:26:24</td>\n      <td>707</td>\n      <td>727</td>\n      <td>1341.0</td>\n      <td>351</td>\n    </tr>\n  </tbody>\n</table>\n</div>"
     },
     "execution_count": 124,
     "metadata": {},
     "output_type": "execute_result"
    }
   ],
   "source": [
    "dataframe_3.sample(5)"
   ],
   "metadata": {
    "collapsed": false,
    "pycharm": {
     "name": "#%%\n"
    }
   }
  },
  {
   "cell_type": "code",
   "execution_count": 125,
   "outputs": [
    {
     "data": {
      "text/plain": "     station_id            name            address  longitude   latitude\n286         225         Maunula     Maunulanmäki 2  24.932503  60.230383\n5           511       Sateentie        Sateentie 2  24.810688  60.173424\n246         139      Kaironkatu     Arabiankatu 21  24.979704  60.209710\n0           501       Hanasaari  Hanasaarenranta 1  24.840319  60.165820\n374         325  Mellunmäki (M)     Pallaksentie 3  25.109875  60.238535",
      "text/html": "<div>\n<style scoped>\n    .dataframe tbody tr th:only-of-type {\n        vertical-align: middle;\n    }\n\n    .dataframe tbody tr th {\n        vertical-align: top;\n    }\n\n    .dataframe thead th {\n        text-align: right;\n    }\n</style>\n<table border=\"1\" class=\"dataframe\">\n  <thead>\n    <tr style=\"text-align: right;\">\n      <th></th>\n      <th>station_id</th>\n      <th>name</th>\n      <th>address</th>\n      <th>longitude</th>\n      <th>latitude</th>\n    </tr>\n  </thead>\n  <tbody>\n    <tr>\n      <th>286</th>\n      <td>225</td>\n      <td>Maunula</td>\n      <td>Maunulanmäki 2</td>\n      <td>24.932503</td>\n      <td>60.230383</td>\n    </tr>\n    <tr>\n      <th>5</th>\n      <td>511</td>\n      <td>Sateentie</td>\n      <td>Sateentie 2</td>\n      <td>24.810688</td>\n      <td>60.173424</td>\n    </tr>\n    <tr>\n      <th>246</th>\n      <td>139</td>\n      <td>Kaironkatu</td>\n      <td>Arabiankatu 21</td>\n      <td>24.979704</td>\n      <td>60.209710</td>\n    </tr>\n    <tr>\n      <th>0</th>\n      <td>501</td>\n      <td>Hanasaari</td>\n      <td>Hanasaarenranta 1</td>\n      <td>24.840319</td>\n      <td>60.165820</td>\n    </tr>\n    <tr>\n      <th>374</th>\n      <td>325</td>\n      <td>Mellunmäki (M)</td>\n      <td>Pallaksentie 3</td>\n      <td>25.109875</td>\n      <td>60.238535</td>\n    </tr>\n  </tbody>\n</table>\n</div>"
     },
     "execution_count": 125,
     "metadata": {},
     "output_type": "execute_result"
    }
   ],
   "source": [
    "station_data.sample(5)"
   ],
   "metadata": {
    "collapsed": false,
    "pycharm": {
     "name": "#%%\n"
    }
   }
  },
  {
   "cell_type": "code",
   "execution_count": 126,
   "outputs": [
    {
     "data": {
      "text/plain": "                 start_time            end_time  start_station_id  \\\nid                                                                  \n184353  2021-05-16 12:41:00 2021-05-16 13:00:02               144   \n898690  2021-06-26 02:07:55 2021-06-26 02:34:22                 3   \n478094  2021-06-05 12:17:36 2021-06-05 12:22:11               613   \n1537103 2021-07-29 21:01:57 2021-07-29 21:09:46               123   \n1130342 2021-07-07 20:55:10 2021-07-07 21:04:43               208   \n452961  2021-06-04 07:43:05 2021-06-04 07:54:44                61   \n1373911 2021-07-20 14:04:57 2021-07-20 14:26:57                60   \n889056  2021-06-25 13:27:44 2021-06-25 14:39:31               311   \n790780  2021-06-20 15:19:28 2021-06-20 15:27:13                91   \n1227436 2021-07-12 20:20:17 2021-07-12 20:38:50                84   \n\n         start_station_name              start_station_location  \\\nid                                                                \n184353           Käpyläntie  60.2139042918024, 24.9588108000086   \n898690   Kapteeninpuistikko  60.1581769029949, 24.9450181631667   \n478094        Matinkyläntie                60.155689, 24.744978   \n1537103          Näkinsilta   60.179750209022, 24.9554449266327   \n1130342           Valimotie  60.2159693222985, 24.8765290693421   \n452961     Länsisatamankatu   60.158927591706, 24.9096920006591   \n1373911       Cable Factory           60.161252848, 24.90279681   \n889056      Ramsinniementie  60.1995636503578, 25.1199060794359   \n790780           Seurasaari  60.1884345423222, 24.8847643214706   \n1227436       Paciuksenkatu  60.1912061418589, 24.8999261202594   \n\n         end_station_id              end_station_name  \\\nid                                                      \n184353              231                Siltavoudintie   \n898690               26                    Kamppi (M)   \n478094              615                  Tiistiläntie   \n1537103             124                  Isoisänsilta   \n1130342             106               Korppaanmäentie   \n452961               19  Central Railway Station/East   \n1373911             501                     Hanasaari   \n889056              301             Aurinkotuulenkatu   \n790780               96                Huopalahdentie   \n1227436              84                 Paciuksenkatu   \n\n                       end_station_location  distance_m  duration_s  \nid                                                                   \n184353   60.2337172192606, 24.9649692401006      3361.0        1136  \n898690    60.168609492141, 24.9305373005364      1586.0         467  \n478094                 60.156755, 24.737664       656.0         272  \n1537103  60.1826518123339, 24.9817926053222      1843.0         468  \n1130342   60.2034734922503, 24.898929699376      2150.0         568  \n452961   60.1708235917114, 24.9425267992462      2987.0         698  \n1373911                 60.16582, 24.840319      4079.0        1318  \n889056    60.202773395376, 25.1593463483962      6328.0        4301  \n790780    60.199732919393, 24.8835764865762      1388.0         462  \n1227436  60.1912061418589, 24.8999261202594      1560.0        1108  ",
      "text/html": "<div>\n<style scoped>\n    .dataframe tbody tr th:only-of-type {\n        vertical-align: middle;\n    }\n\n    .dataframe tbody tr th {\n        vertical-align: top;\n    }\n\n    .dataframe thead th {\n        text-align: right;\n    }\n</style>\n<table border=\"1\" class=\"dataframe\">\n  <thead>\n    <tr style=\"text-align: right;\">\n      <th></th>\n      <th>start_time</th>\n      <th>end_time</th>\n      <th>start_station_id</th>\n      <th>start_station_name</th>\n      <th>start_station_location</th>\n      <th>end_station_id</th>\n      <th>end_station_name</th>\n      <th>end_station_location</th>\n      <th>distance_m</th>\n      <th>duration_s</th>\n    </tr>\n    <tr>\n      <th>id</th>\n      <th></th>\n      <th></th>\n      <th></th>\n      <th></th>\n      <th></th>\n      <th></th>\n      <th></th>\n      <th></th>\n      <th></th>\n      <th></th>\n    </tr>\n  </thead>\n  <tbody>\n    <tr>\n      <th>184353</th>\n      <td>2021-05-16 12:41:00</td>\n      <td>2021-05-16 13:00:02</td>\n      <td>144</td>\n      <td>Käpyläntie</td>\n      <td>60.2139042918024, 24.9588108000086</td>\n      <td>231</td>\n      <td>Siltavoudintie</td>\n      <td>60.2337172192606, 24.9649692401006</td>\n      <td>3361.0</td>\n      <td>1136</td>\n    </tr>\n    <tr>\n      <th>898690</th>\n      <td>2021-06-26 02:07:55</td>\n      <td>2021-06-26 02:34:22</td>\n      <td>3</td>\n      <td>Kapteeninpuistikko</td>\n      <td>60.1581769029949, 24.9450181631667</td>\n      <td>26</td>\n      <td>Kamppi (M)</td>\n      <td>60.168609492141, 24.9305373005364</td>\n      <td>1586.0</td>\n      <td>467</td>\n    </tr>\n    <tr>\n      <th>478094</th>\n      <td>2021-06-05 12:17:36</td>\n      <td>2021-06-05 12:22:11</td>\n      <td>613</td>\n      <td>Matinkyläntie</td>\n      <td>60.155689, 24.744978</td>\n      <td>615</td>\n      <td>Tiistiläntie</td>\n      <td>60.156755, 24.737664</td>\n      <td>656.0</td>\n      <td>272</td>\n    </tr>\n    <tr>\n      <th>1537103</th>\n      <td>2021-07-29 21:01:57</td>\n      <td>2021-07-29 21:09:46</td>\n      <td>123</td>\n      <td>Näkinsilta</td>\n      <td>60.179750209022, 24.9554449266327</td>\n      <td>124</td>\n      <td>Isoisänsilta</td>\n      <td>60.1826518123339, 24.9817926053222</td>\n      <td>1843.0</td>\n      <td>468</td>\n    </tr>\n    <tr>\n      <th>1130342</th>\n      <td>2021-07-07 20:55:10</td>\n      <td>2021-07-07 21:04:43</td>\n      <td>208</td>\n      <td>Valimotie</td>\n      <td>60.2159693222985, 24.8765290693421</td>\n      <td>106</td>\n      <td>Korppaanmäentie</td>\n      <td>60.2034734922503, 24.898929699376</td>\n      <td>2150.0</td>\n      <td>568</td>\n    </tr>\n    <tr>\n      <th>452961</th>\n      <td>2021-06-04 07:43:05</td>\n      <td>2021-06-04 07:54:44</td>\n      <td>61</td>\n      <td>Länsisatamankatu</td>\n      <td>60.158927591706, 24.9096920006591</td>\n      <td>19</td>\n      <td>Central Railway Station/East</td>\n      <td>60.1708235917114, 24.9425267992462</td>\n      <td>2987.0</td>\n      <td>698</td>\n    </tr>\n    <tr>\n      <th>1373911</th>\n      <td>2021-07-20 14:04:57</td>\n      <td>2021-07-20 14:26:57</td>\n      <td>60</td>\n      <td>Cable Factory</td>\n      <td>60.161252848, 24.90279681</td>\n      <td>501</td>\n      <td>Hanasaari</td>\n      <td>60.16582, 24.840319</td>\n      <td>4079.0</td>\n      <td>1318</td>\n    </tr>\n    <tr>\n      <th>889056</th>\n      <td>2021-06-25 13:27:44</td>\n      <td>2021-06-25 14:39:31</td>\n      <td>311</td>\n      <td>Ramsinniementie</td>\n      <td>60.1995636503578, 25.1199060794359</td>\n      <td>301</td>\n      <td>Aurinkotuulenkatu</td>\n      <td>60.202773395376, 25.1593463483962</td>\n      <td>6328.0</td>\n      <td>4301</td>\n    </tr>\n    <tr>\n      <th>790780</th>\n      <td>2021-06-20 15:19:28</td>\n      <td>2021-06-20 15:27:13</td>\n      <td>91</td>\n      <td>Seurasaari</td>\n      <td>60.1884345423222, 24.8847643214706</td>\n      <td>96</td>\n      <td>Huopalahdentie</td>\n      <td>60.199732919393, 24.8835764865762</td>\n      <td>1388.0</td>\n      <td>462</td>\n    </tr>\n    <tr>\n      <th>1227436</th>\n      <td>2021-07-12 20:20:17</td>\n      <td>2021-07-12 20:38:50</td>\n      <td>84</td>\n      <td>Paciuksenkatu</td>\n      <td>60.1912061418589, 24.8999261202594</td>\n      <td>84</td>\n      <td>Paciuksenkatu</td>\n      <td>60.1912061418589, 24.8999261202594</td>\n      <td>1560.0</td>\n      <td>1108</td>\n    </tr>\n  </tbody>\n</table>\n</div>"
     },
     "execution_count": 126,
     "metadata": {},
     "output_type": "execute_result"
    }
   ],
   "source": [
    "merged_dataframe.sample(10)"
   ],
   "metadata": {
    "collapsed": false,
    "pycharm": {
     "name": "#%%\n"
    }
   }
  }
 ],
 "metadata": {
  "kernelspec": {
   "display_name": "venv",
   "language": "python",
   "name": "python3"
  },
  "language_info": {
   "codemirror_mode": {
    "name": "ipython",
    "version": 3
   },
   "file_extension": ".py",
   "mimetype": "text/x-python",
   "name": "python",
   "nbconvert_exporter": "python",
   "pygments_lexer": "ipython3",
   "version": "3.10.3"
  },
  "vscode": {
   "interpreter": {
    "hash": "259f4e05152551d316899d32469fb9c891fc1ce7c0d10ec684018685c482574c"
   }
  }
 },
 "nbformat": 4,
 "nbformat_minor": 0
}